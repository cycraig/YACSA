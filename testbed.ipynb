{
 "nbformat": 4,
 "nbformat_minor": 2,
 "metadata": {
  "language_info": {
   "name": "python",
   "codemirror_mode": {
    "name": "ipython",
    "version": 3
   },
   "version": "3.7.6-final"
  },
  "orig_nbformat": 2,
  "file_extension": ".py",
  "mimetype": "text/x-python",
  "name": "python",
  "npconvert_exporter": "python",
  "pygments_lexer": "ipython3",
  "version": 3,
  "kernelspec": {
   "name": "python3",
   "display_name": "Python 3"
  }
 },
 "cells": [
  {
   "cell_type": "code",
   "execution_count": 38,
   "metadata": {},
   "outputs": [],
   "source": [
    "%%capture\n",
    "!pip install psaw"
   ]
  },
  {
   "cell_type": "code",
   "execution_count": 2,
   "metadata": {},
   "outputs": [],
   "source": [
    "from psaw.PushshiftAPI import PushshiftAPI\n",
    "\n",
    "api = PushshiftAPI()"
   ]
  },
  {
   "cell_type": "code",
   "execution_count": 3,
   "metadata": {
    "tags": [
     "outputPrepend"
    ]
   },
   "outputs": [],
   "source": [
    "import datetime as dt\n",
    "\n",
    "start_epoch=int(dt.datetime(2020, 4, 12).timestamp())\n",
    "\n",
    "# Filter out links, other unparseable symbols (keep emoticons?)\n",
    "\n",
    "# TODO: filter out [removed] and [deleted] selftext\n",
    "posts = list(api.search_submissions(after=start_epoch,\n",
    "                            subreddit='cryptocurrency',\n",
    "                            filter=['title','selftext'],\n",
    "                            limit=10))\n",
    "#print([p.title + \" \" + p.selftext for p in posts])\n",
    "\n",
    "# TODO: Prajapati 2020 only uses posts, as do other papers. Are comments noise or useful? Filter out bot posts/comments?\n",
    "comments = list(api.search_comments(after=start_epoch,\n",
    "                            subreddit='cryptocurrency',\n",
    "                            filter=['body'],\n",
    "                            limit=10))\n",
    "#print([c.body for c in comments])"
   ]
  },
  {
   "cell_type": "code",
   "execution_count": 32,
   "metadata": {},
   "outputs": [],
   "source": [
    "%%capture\n",
    "!pip install flair"
   ]
  },
  {
   "cell_type": "code",
   "execution_count": 4,
   "metadata": {},
   "outputs": [
    {
     "output_type": "stream",
     "name": "stdout",
     "text": "2020-04-12 22:16:31,952 loading file C:\\Users\\Craig\\.flair\\models\\imdb-v0.4.pt\nCan $1200 make you rich?  : [NEGATIVE (0.8961634635925293)]\nHowtotrade [removed] : [POSITIVE (0.8156775236129761)]\nMade a chill little website and facebook group [removed] : [POSITIVE (0.9883606433868408)]\nAs a whole, the cryptocurrency market has a big challenge in beating S&amp;P 500, because it has no \"divine\" support. : [POSITIVE (0.9886794686317444)]\nHey guys just asking about advice on crypto.com [removed] : [NEGATIVE (0.913253128528595)]\nEU parliament study on crypto assets  : [POSITIVE (0.7865946292877197)]\n$1 Billion Cryptocurrency Transfer Cost Just $0.68 | TheCryptoAssociate  : [NEGATIVE (0.9997288584709167)]\nearn fre money bitcoin paypal [removed] : [NEGATIVE (0.9939028024673462)]\nBTC/USD Tests 6949.09 Level and Comes Off: Sally Ho's Technical Analysis 12 April 2020 BTC  : [POSITIVE (0.9999995231628418)]\nTake my money!  : [POSITIVE (0.6302913427352905)]\nHello, your post was removed because your account is less than 50 days old or you do not have the required 500 comment karma to make post submissions. : [NEGATIVE (0.7056328654289246)]\nbrrrrrrrrrrrrrrrrrrrrrrrrrrrrrro : [POSITIVE (0.9449076056480408)]\nOmfg a sunday we dont go down : [POSITIVE (0.8452556729316711)]\nYes it is a scam : [POSITIVE (0.9938570857048035)]\nAlso Btc low capacity is working against you.. : [POSITIVE (0.9913051724433899)]\n[removed] : [POSITIVE (0.5241006016731262)]\nDoubtful. I've been mining it for awhile now, just applied to be a node a week or so ago. I highly doubt three people with PHDs from Stanford would decide to become scammers after graduation. Lol. : [POSITIVE (0.9776667952537537)]\nYet, here you are! 😂 : [NEGATIVE (0.8459822535514832)]\nIts not! U can use my code if u need it.\nCode matej1406 : [NEGATIVE (0.9985143542289734)]\nFair play on the market cap but volume is traded, this is simply a transfer and volume would not have an impact: [NEGATIVE (0.925554633140564)]\n"
    }
   ],
   "source": [
    "import flair\n",
    "\n",
    "# TODO: train custom model to improve accuracy, compare against nltk/stanford NLP, any reddit post datasets?\n",
    "# c.f. https://towardsdatascience.com/how-to-beat-automl-hyperparameter-optimisation-with-flair-3b2f5092d9f5\n",
    "sentiment_model = flair.models.TextClassifier.load('en-sentiment')\n",
    "\n",
    "def classify(text: str):\n",
    "    sent = flair.data.Sentence(text)\n",
    "    return sentiment_model.predict(sent)\n",
    "\n",
    "for p in posts:\n",
    "    text = p.title\n",
    "    if hasattr(p, 'selftext'):\n",
    "        text += \" \" + p.selftext\n",
    "    print(text,\":\",classify(text)[0].labels)\n",
    "\n",
    "for c in comments:\n",
    "    text = c.body\n",
    "    print(text,\":\",classify(text)[0].labels)\n"
   ]
  },
  {
   "cell_type": "code",
   "execution_count": null,
   "metadata": {},
   "outputs": [],
   "source": []
  }
 ]
}